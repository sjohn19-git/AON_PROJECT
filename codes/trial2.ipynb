{
 "cells": [
  {
   "cell_type": "code",
   "execution_count": 2,
   "id": "497a0b92-6802-47a4-af03-0dce440e274d",
   "metadata": {},
   "outputs": [],
   "source": [
    "import datetime as dt\n",
    "import matplotlib.dates as mdates\n",
    "from obspy import UTCDateTime\n",
    "import matplotlib.pyplot as plt\n",
    "import numpy as np\n",
    "import pandas as pd\n",
    "import os\n",
    "import glob"
   ]
  },
  {
   "cell_type": "code",
   "execution_count": 84,
   "id": "7f00d63b-9605-431f-83dd-9b7897533667",
   "metadata": {},
   "outputs": [
    {
     "name": "stdin",
     "output_type": "stream",
     "text": [
      "howmuch? 1\n",
      "start time? 2018-05-01\n",
      "endtime time? 2018-05-02\n",
      "Network? TA\n"
     ]
    },
    {
     "name": "stdout",
     "output_type": "stream",
     "text": [
      "start times are ['2018-05-01']\n",
      "endtimes are ['2018-05-02']\n"
     ]
    }
   ],
   "source": [
    "starttimes=[]\n",
    "endtimes=[]\n",
    "net=[]\n",
    "nooftimes=input(\"howmuch?\")\n",
    "nooftimes=int(nooftimes)\n",
    "while nooftimes !=0:\n",
    "    starttime=input(\"start time?\")\n",
    "    endtime=input(\"endtime time?\")\n",
    "    network=input(\"Network?\")\n",
    "    startt=UTCDateTime(starttime)\n",
    "    endt=UTCDateTime(endtime)\n",
    "    starttimes.append(starttime)\n",
    "    endtimes.append(endtime)\n",
    "    net.append(network)\n",
    "    nooftimes=nooftimes-1\n",
    "else:\n",
    "    pass\n",
    "print(\"start times are\",starttimes)\n",
    "print(\"endtimes are\",endtimes)\n",
    "    "
   ]
  },
  {
   "cell_type": "code",
   "execution_count": 76,
   "id": "a232b3cd-abba-41db-b619-21c93fa440a4",
   "metadata": {},
   "outputs": [
    {
     "name": "stdin",
     "output_type": "stream",
     "text": [
      "Station? L17K\n",
      "location? *\n",
      "channel? BHZ\n"
     ]
    }
   ],
   "source": [
    "sta=input(\"Station?\")\n",
    "loc=input(\"location?\")\n",
    "cha=input(\"channel?\")"
   ]
  },
  {
   "cell_type": "code",
   "execution_count": 85,
   "id": "dccd9d3a-69a5-4ed3-bd7d-ccbf1e0d8171",
   "metadata": {},
   "outputs": [
    {
     "name": "stdout",
     "output_type": "stream",
     "text": [
      "https://service.iris.edu/mustang/noise-psd/1/query?target=TA.L17K.*.BHZ.M&starttime=2018-05-01&endtime=2018-05-02&format=xml\n"
     ]
    }
   ],
   "source": [
    "import requests\n",
    "for z in range (len(starttimes)):\n",
    "    url='https://service.iris.edu/mustang/noise-psd/1/query?target='+net[z]+\".\"+sta+\".\"+loc+\".\"+cha+\".M&starttime=\"+str(starttimes[z])+\"&endtime=\"+str(endtimes[z])+\"&format=xml\"\n",
    "    print(url)\n",
    "    resp = requests.get(url)\n",
    "    with open('pdf'+str(z)+\".xml\", 'w') as foutput:\n",
    "        foutput.write(resp.content.decode('utf-8'))"
   ]
  },
  {
   "cell_type": "code",
   "execution_count": 136,
   "id": "b5bad45c-85fd-4a23-bf20-7bb5bdfb9cf0",
   "metadata": {},
   "outputs": [
    {
     "name": "stdout",
     "output_type": "stream",
     "text": [
      "/home/sjohn/spectrogram/pdf0.xml\n",
      "/home/sjohn/spectrogram/pdf1.xml\n",
      "/home/sjohn/spectrogram/combine.xml\n"
     ]
    }
   ],
   "source": [
    "files=[]\n",
    "for name in glob.glob('/home/sjohn/spectrogram/*xml'):\n",
    "    files.append(name)\n",
    "    print(name)"
   ]
  },
  {
   "cell_type": "code",
   "execution_count": 88,
   "id": "2b24cc37-f3af-4715-b6e0-dc92d2bf0ad4",
   "metadata": {},
   "outputs": [
    {
     "data": {
      "text/plain": [
       "0"
      ]
     },
     "execution_count": 88,
     "metadata": {},
     "output_type": "execute_result"
    }
   ],
   "source": [
    "os.system('xmlmerge *.xml > combine.xml')"
   ]
  },
  {
   "cell_type": "code",
   "execution_count": 4,
   "id": "b29b73ee-351f-47eb-ac93-c040e8f4eb52",
   "metadata": {},
   "outputs": [
    {
     "data": {
      "text/plain": [
       "8"
      ]
     },
     "execution_count": 4,
     "metadata": {},
     "output_type": "execute_result"
    }
   ],
   "source": [
    "os.cpu_count()"
   ]
  },
  {
   "cell_type": "code",
   "execution_count": 7,
   "id": "ff6424d7-0a29-4333-9607-4c5b58555e9b",
   "metadata": {},
   "outputs": [
    {
     "name": "stdout",
     "output_type": "stream",
     "text": [
      "71687\n",
      "0\n",
      "2\n",
      "4\n",
      "6\n",
      "8\n",
      "10\n",
      "12\n",
      "14\n",
      "16\n",
      "18\n",
      "20\n",
      "22\n",
      "24\n",
      "26\n",
      "28\n",
      "30\n",
      "32\n",
      "34\n",
      "36\n",
      "38\n",
      "40\n",
      "42\n",
      "44\n",
      "46\n",
      "48\n",
      "50\n",
      "52\n",
      "54\n",
      "56\n",
      "58\n",
      "60\n",
      "62\n",
      "64\n",
      "66\n",
      "68\n",
      "70\n",
      "72\n",
      "74\n",
      "76\n",
      "78\n",
      "80\n",
      "82\n",
      "84\n",
      "86\n",
      "88\n",
      "90\n",
      "92\n",
      "94\n",
      "96\n",
      "98\n",
      "100\n",
      "102\n",
      "104\n",
      "106\n",
      "108\n",
      "110\n",
      "112\n",
      "114\n",
      "116\n"
     ]
    },
    {
     "ename": "KeyboardInterrupt",
     "evalue": "",
     "output_type": "error",
     "traceback": [
      "\u001b[0;31m---------------------------------------------------------------------------\u001b[0m",
      "\u001b[0;31mKeyboardInterrupt\u001b[0m                         Traceback (most recent call last)",
      "\u001b[0;32m/tmp/ipykernel_10930/830733130.py\u001b[0m in \u001b[0;36m<module>\u001b[0;34m\u001b[0m\n\u001b[1;32m     13\u001b[0m         \u001b[0mframes\u001b[0m\u001b[0;34m.\u001b[0m\u001b[0mappend\u001b[0m\u001b[0;34m(\u001b[0m\u001b[0mf\u001b[0m\u001b[0;34m)\u001b[0m\u001b[0;34m\u001b[0m\u001b[0;34m\u001b[0m\u001b[0m\n\u001b[1;32m     14\u001b[0m     \u001b[0;32melse\u001b[0m\u001b[0;34m:\u001b[0m\u001b[0;34m\u001b[0m\u001b[0;34m\u001b[0m\u001b[0m\n\u001b[0;32m---> 15\u001b[0;31m         \u001b[0mg\u001b[0m\u001b[0;34m=\u001b[0m \u001b[0mpd\u001b[0m\u001b[0;34m.\u001b[0m\u001b[0mread_xml\u001b[0m\u001b[0;34m(\u001b[0m\u001b[0;34m\"combine.xml\"\u001b[0m\u001b[0;34m,\u001b[0m \u001b[0mxpath\u001b[0m\u001b[0;34m=\u001b[0m\u001b[0;34m\"/PsdRoot/Psds[1]/Psd[\"\u001b[0m\u001b[0;34m+\u001b[0m\u001b[0mstr\u001b[0m\u001b[0;34m(\u001b[0m\u001b[0mi\u001b[0m\u001b[0;34m+\u001b[0m\u001b[0;36m1\u001b[0m\u001b[0;34m)\u001b[0m\u001b[0;34m+\u001b[0m\u001b[0;34m\"]/value\"\u001b[0m\u001b[0;34m)\u001b[0m\u001b[0;34m\u001b[0m\u001b[0;34m\u001b[0m\u001b[0m\n\u001b[0m\u001b[1;32m     16\u001b[0m         \u001b[0mframes\u001b[0m\u001b[0;34m.\u001b[0m\u001b[0mappend\u001b[0m\u001b[0;34m(\u001b[0m\u001b[0mg\u001b[0m\u001b[0;34m)\u001b[0m\u001b[0;34m\u001b[0m\u001b[0;34m\u001b[0m\u001b[0m\n\u001b[1;32m     17\u001b[0m \u001b[0mresult\u001b[0m\u001b[0;34m=\u001b[0m\u001b[0mpd\u001b[0m\u001b[0;34m.\u001b[0m\u001b[0mconcat\u001b[0m\u001b[0;34m(\u001b[0m\u001b[0mframes\u001b[0m\u001b[0;34m)\u001b[0m\u001b[0;34m\u001b[0m\u001b[0;34m\u001b[0m\u001b[0m\n",
      "\u001b[0;32m~/.conda/envs/roses_2021/lib/python3.9/site-packages/pandas/io/xml.py\u001b[0m in \u001b[0;36mread_xml\u001b[0;34m(path_or_buffer, xpath, namespaces, elems_only, attrs_only, names, encoding, parser, stylesheet, compression, storage_options)\u001b[0m\n\u001b[1;32m    925\u001b[0m     \"\"\"\n\u001b[1;32m    926\u001b[0m \u001b[0;34m\u001b[0m\u001b[0m\n\u001b[0;32m--> 927\u001b[0;31m     return _parse(\n\u001b[0m\u001b[1;32m    928\u001b[0m         \u001b[0mpath_or_buffer\u001b[0m\u001b[0;34m=\u001b[0m\u001b[0mpath_or_buffer\u001b[0m\u001b[0;34m,\u001b[0m\u001b[0;34m\u001b[0m\u001b[0;34m\u001b[0m\u001b[0m\n\u001b[1;32m    929\u001b[0m         \u001b[0mxpath\u001b[0m\u001b[0;34m=\u001b[0m\u001b[0mxpath\u001b[0m\u001b[0;34m,\u001b[0m\u001b[0;34m\u001b[0m\u001b[0;34m\u001b[0m\u001b[0m\n",
      "\u001b[0;32m~/.conda/envs/roses_2021/lib/python3.9/site-packages/pandas/io/xml.py\u001b[0m in \u001b[0;36m_parse\u001b[0;34m(path_or_buffer, xpath, namespaces, elems_only, attrs_only, names, encoding, parser, stylesheet, compression, storage_options, **kwargs)\u001b[0m\n\u001b[1;32m    726\u001b[0m         \u001b[0;32mraise\u001b[0m \u001b[0mValueError\u001b[0m\u001b[0;34m(\u001b[0m\u001b[0;34m\"Values for parser can only be lxml or etree.\"\u001b[0m\u001b[0;34m)\u001b[0m\u001b[0;34m\u001b[0m\u001b[0;34m\u001b[0m\u001b[0m\n\u001b[1;32m    727\u001b[0m \u001b[0;34m\u001b[0m\u001b[0m\n\u001b[0;32m--> 728\u001b[0;31m     \u001b[0mdata_dicts\u001b[0m \u001b[0;34m=\u001b[0m \u001b[0mp\u001b[0m\u001b[0;34m.\u001b[0m\u001b[0mparse_data\u001b[0m\u001b[0;34m(\u001b[0m\u001b[0;34m)\u001b[0m\u001b[0;34m\u001b[0m\u001b[0;34m\u001b[0m\u001b[0m\n\u001b[0m\u001b[1;32m    729\u001b[0m \u001b[0;34m\u001b[0m\u001b[0m\n\u001b[1;32m    730\u001b[0m     \u001b[0;32mreturn\u001b[0m \u001b[0m_data_to_frame\u001b[0m\u001b[0;34m(\u001b[0m\u001b[0mdata\u001b[0m\u001b[0;34m=\u001b[0m\u001b[0mdata_dicts\u001b[0m\u001b[0;34m,\u001b[0m \u001b[0;34m**\u001b[0m\u001b[0mkwargs\u001b[0m\u001b[0;34m)\u001b[0m\u001b[0;34m\u001b[0m\u001b[0;34m\u001b[0m\u001b[0m\n",
      "\u001b[0;32m~/.conda/envs/roses_2021/lib/python3.9/site-packages/pandas/io/xml.py\u001b[0m in \u001b[0;36mparse_data\u001b[0;34m(self)\u001b[0m\n\u001b[1;32m    389\u001b[0m         \u001b[0;32mfrom\u001b[0m \u001b[0mlxml\u001b[0m\u001b[0;34m.\u001b[0m\u001b[0metree\u001b[0m \u001b[0;32mimport\u001b[0m \u001b[0mXML\u001b[0m\u001b[0;34m\u001b[0m\u001b[0;34m\u001b[0m\u001b[0m\n\u001b[1;32m    390\u001b[0m \u001b[0;34m\u001b[0m\u001b[0m\n\u001b[0;32m--> 391\u001b[0;31m         \u001b[0mself\u001b[0m\u001b[0;34m.\u001b[0m\u001b[0mxml_doc\u001b[0m \u001b[0;34m=\u001b[0m \u001b[0mXML\u001b[0m\u001b[0;34m(\u001b[0m\u001b[0mself\u001b[0m\u001b[0;34m.\u001b[0m\u001b[0m_parse_doc\u001b[0m\u001b[0;34m(\u001b[0m\u001b[0mself\u001b[0m\u001b[0;34m.\u001b[0m\u001b[0mpath_or_buffer\u001b[0m\u001b[0;34m)\u001b[0m\u001b[0;34m)\u001b[0m\u001b[0;34m\u001b[0m\u001b[0;34m\u001b[0m\u001b[0m\n\u001b[0m\u001b[1;32m    392\u001b[0m \u001b[0;34m\u001b[0m\u001b[0m\n\u001b[1;32m    393\u001b[0m         \u001b[0;32mif\u001b[0m \u001b[0mself\u001b[0m\u001b[0;34m.\u001b[0m\u001b[0mstylesheet\u001b[0m \u001b[0;32mis\u001b[0m \u001b[0;32mnot\u001b[0m \u001b[0;32mNone\u001b[0m\u001b[0;34m:\u001b[0m\u001b[0;34m\u001b[0m\u001b[0;34m\u001b[0m\u001b[0m\n",
      "\u001b[0;31mKeyboardInterrupt\u001b[0m: "
     ]
    }
   ],
   "source": [
    "frames=[]\n",
    "name= pd.read_xml(\"combine.xml\", xpath=\"/PsdRoot/Psds/Psd\")\n",
    "print(len(name))\n",
    "j=0\n",
    "for i in range(len(name)):\n",
    "    if i%2==0:\n",
    "        print(i)\n",
    "    stu=name.iloc[i]['target']\n",
    "    stu=(stu[:2])\n",
    "    if stu==\"AK\":\n",
    "        j+=1\n",
    "        f= pd.read_xml(\"combine.xml\", xpath=\"/PsdRoot/Psds[2]/Psd[\"+str(j)+\"]/value[@freq<20]\")\n",
    "        frames.append(f)\n",
    "    else:\n",
    "        g= pd.read_xml(\"combine.xml\", xpath=\"/PsdRoot/Psds[1]/Psd[\"+str(i+1)+\"]/value\")\n",
    "        frames.append(g)\n",
    "result=pd.concat(frames)\n",
    "\n",
    "    "
   ]
  },
  {
   "cell_type": "code",
   "execution_count": null,
   "id": "76ba8f32-44ed-4107-b495-36e1b034c8cb",
   "metadata": {},
   "outputs": [],
   "source": [
    "ma=np.zeros((96,len(name)))\n",
    "co=0\n",
    "r=-1\n",
    "for i in range (0,len(result)):\n",
    "    if ((r+1)/96) == 1:\n",
    "        r=0\n",
    "        co+=1\n",
    "    else :\n",
    "        r+=1\n",
    "    ma[r,co]=result.iloc[i,1]\n"
   ]
  },
  {
   "cell_type": "code",
   "execution_count": 142,
   "id": "22065060-c104-4b8d-abef-0f6bfa43255f",
   "metadata": {},
   "outputs": [
    {
     "name": "stdout",
     "output_type": "stream",
     "text": [
      "[[-176.20278846 -176.82448846 -177.53218846 ..., -174.80929336\n",
      "  -175.11279336 -178.42309336]\n",
      " [-176.71583533 -177.33753533 -178.04523533 ..., -177.17574297\n",
      "  -174.32164297 -175.73834297]\n",
      " [-176.91062533 -177.56882533 -176.96092533 ..., -177.6106308\n",
      "  -174.7565308  -176.1732308 ]\n",
      " ..., \n",
      " [-145.25587467 -144.62047467 -144.69067467 ..., -150.26404489\n",
      "  -149.88324489 -149.44254489]\n",
      " [-128.58393356 -127.91563356 -127.99553356 ..., -149.96448589\n",
      "  -149.56318589 -149.11748589]\n",
      " [ -76.7271174   -76.0281174   -76.1072174  ..., -149.23401874\n",
      "  -148.79931874 -148.31381874]]\n"
     ]
    },
    {
     "data": {
      "text/plain": [
       "(96, 94)"
      ]
     },
     "execution_count": 142,
     "metadata": {},
     "output_type": "execute_result"
    }
   ],
   "source": [
    "print(ma)\n",
    "np.shape(ma)"
   ]
  },
  {
   "cell_type": "code",
   "execution_count": null,
   "id": "7247d0b2-979c-4b06-8c00-07a1be8d2848",
   "metadata": {},
   "outputs": [],
   "source": [
    "final=np.delete(ma, range(1, ma.shape[1], 2), axis=1)\n",
    "print(final)\n",
    "np.shape(final)"
   ]
  },
  {
   "cell_type": "code",
   "execution_count": null,
   "id": "2b03edb8-0951-4c4c-9bad-d4c98068b780",
   "metadata": {},
   "outputs": [],
   "source": [
    "startt=UTCDateTime(starttimes[0])\n",
    "print(startt)\n",
    "endt=UTCDateTime(endtimes[-1])\n",
    "print(endt)\n",
    "l=((startt-endt)/8)\n",
    "print(l)\n",
    "time=np.arange(startt,endt,-l)\n",
    "print(time)\n",
    "np.shape(time)"
   ]
  },
  {
   "cell_type": "code",
   "execution_count": null,
   "id": "922c4662-b209-41a9-a567-42b15e676eae",
   "metadata": {},
   "outputs": [],
   "source": [
    "time_mpl = [t.matplotlib_date for t in time]\n",
    "time_mpl=[t.strftime('%b, %d,%y') for t in time]"
   ]
  },
  {
   "cell_type": "code",
   "execution_count": null,
   "id": "af595009-8380-4cf4-8fb0-c3236c3d0d3f",
   "metadata": {},
   "outputs": [],
   "source": [
    "date_format=mdates.DateFormatter('%b, %d,%y')"
   ]
  },
  {
   "cell_type": "code",
   "execution_count": null,
   "id": "6cb374f2-1517-4797-acf2-dfe5962d6af0",
   "metadata": {},
   "outputs": [],
   "source": [
    "freq =np.arange(0,20,4)"
   ]
  },
  {
   "cell_type": "code",
   "execution_count": null,
   "id": "50477150-c7d5-42e8-98c3-e75b234860f2",
   "metadata": {},
   "outputs": [],
   "source": [
    "fig, ax1 = plt.subplots(figsize=(12, 2))\n",
    "#c = ax1.imshow(final, cmap='plasma')\n",
    "c = ax1.pcolormesh(final, cmap='plasma')\n",
    "#fig.set_figwidth(10)\n",
    "#fig.set_figheight(3)\n",
    "ax1.set_xticklabels(time_mpl)\n",
    "ax1.set_yticklabels(freq)\n",
    "ax1.title.set_text(sta)\n",
    "fig.savefig(\"finalspectro1.png\")"
   ]
  },
  {
   "cell_type": "code",
   "execution_count": null,
   "id": "49eee8b5-d7a8-42a1-b801-ff0d007c3ec3",
   "metadata": {},
   "outputs": [],
   "source": []
  }
 ],
 "metadata": {
  "kernelspec": {
   "display_name": "Python 3 (ipykernel)",
   "language": "python",
   "name": "python3"
  },
  "language_info": {
   "codemirror_mode": {
    "name": "ipython",
    "version": 3
   },
   "file_extension": ".py",
   "mimetype": "text/x-python",
   "name": "python",
   "nbconvert_exporter": "python",
   "pygments_lexer": "ipython3",
   "version": "3.9.6"
  }
 },
 "nbformat": 4,
 "nbformat_minor": 5
}
