{
 "cells": [
  {
   "cell_type": "code",
   "execution_count": 2,
   "metadata": {},
   "outputs": [],
   "source": [
    "import datetime as dt\n",
    "import matplotlib.dates as mdates\n",
    "from obspy import UTCDateTime\n",
    "import matplotlib.pyplot as plt\n",
    "import numpy as np\n",
    "import pandas as pd\n",
    "import os"
   ]
  },
  {
   "cell_type": "code",
   "execution_count": 179,
   "metadata": {},
   "outputs": [],
   "source": [
    "startt=UTCDateTime(\"2018-08-01T00:00:00.000Z\")\n",
    "endt=UTCDateTime(\"2018-08-30T23:59:59.000Z\")\n",
    "startt=startt.timestamp\n",
    "endt=endt.timestamp"
   ]
  },
  {
   "cell_type": "code",
   "execution_count": 7,
   "metadata": {},
   "outputs": [],
   "source": [
    "import requests\n",
    "\n",
    "resp = requests.get('https://service.iris.edu/mustang/noise-psd/1/query?target=TA.E22K.*.BHZ.M&starttime=2018-08-01&endtime=2018-08-31&format=xml')\n",
    "with open('pdf_test2.xml', 'w') as foutput:\n",
    "   foutput.write(resp.content.decode('utf-8'))"
   ]
  },
  {
   "cell_type": "code",
   "execution_count": 37,
   "metadata": {},
   "outputs": [
    {
     "name": "stdout",
     "output_type": "stream",
     "text": [
      "              target                     start                       end  \\\n",
      "0     TA.E22K..BHZ.M  2018-08-01T00:00:00.000Z  2018-08-01T01:00:00.000Z   \n",
      "1     TA.E22K..BHZ.M  2018-08-01T00:30:00.000Z  2018-08-01T01:30:00.000Z   \n",
      "2     TA.E22K..BHZ.M  2018-08-01T01:00:00.000Z  2018-08-01T02:00:00.000Z   \n",
      "3     TA.E22K..BHZ.M  2018-08-01T01:30:00.000Z  2018-08-01T02:30:00.000Z   \n",
      "4     TA.E22K..BHZ.M  2018-08-01T02:00:00.000Z  2018-08-01T03:00:00.000Z   \n",
      "...              ...                       ...                       ...   \n",
      "1405  TA.E22K..BHZ.M  2018-08-30T21:00:00.000Z  2018-08-30T22:00:00.000Z   \n",
      "1406  TA.E22K..BHZ.M  2018-08-30T21:30:00.000Z  2018-08-30T22:30:00.000Z   \n",
      "1407  TA.E22K..BHZ.M  2018-08-30T22:00:00.000Z  2018-08-30T23:00:00.000Z   \n",
      "1408  TA.E22K..BHZ.M  2018-08-30T22:30:00.000Z  2018-08-30T23:30:00.000Z   \n",
      "1409  TA.E22K..BHZ.M  2018-08-30T23:00:00.000Z  2018-08-30T23:59:59.000Z   \n",
      "\n",
      "      value  \n",
      "0       NaN  \n",
      "1       NaN  \n",
      "2       NaN  \n",
      "3       NaN  \n",
      "4       NaN  \n",
      "...     ...  \n",
      "1405    NaN  \n",
      "1406    NaN  \n",
      "1407    NaN  \n",
      "1408    NaN  \n",
      "1409    NaN  \n",
      "\n",
      "[1410 rows x 4 columns]\n"
     ]
    },
    {
     "data": {
      "text/html": [
       "<div>\n",
       "<style scoped>\n",
       "    .dataframe tbody tr th:only-of-type {\n",
       "        vertical-align: middle;\n",
       "    }\n",
       "\n",
       "    .dataframe tbody tr th {\n",
       "        vertical-align: top;\n",
       "    }\n",
       "\n",
       "    .dataframe thead th {\n",
       "        text-align: right;\n",
       "    }\n",
       "</style>\n",
       "<table border=\"1\" class=\"dataframe\">\n",
       "  <thead>\n",
       "    <tr style=\"text-align: right;\">\n",
       "      <th></th>\n",
       "      <th>freq</th>\n",
       "      <th>power</th>\n",
       "    </tr>\n",
       "  </thead>\n",
       "  <tbody>\n",
       "    <tr>\n",
       "      <th>0</th>\n",
       "      <td>0.005256</td>\n",
       "      <td>-172.838533</td>\n",
       "    </tr>\n",
       "    <tr>\n",
       "      <th>1</th>\n",
       "      <td>0.005731</td>\n",
       "      <td>-173.352568</td>\n",
       "    </tr>\n",
       "    <tr>\n",
       "      <th>2</th>\n",
       "      <td>0.006250</td>\n",
       "      <td>-174.386616</td>\n",
       "    </tr>\n",
       "    <tr>\n",
       "      <th>3</th>\n",
       "      <td>0.006816</td>\n",
       "      <td>-174.724578</td>\n",
       "    </tr>\n",
       "    <tr>\n",
       "      <th>4</th>\n",
       "      <td>0.007433</td>\n",
       "      <td>-174.987648</td>\n",
       "    </tr>\n",
       "    <tr>\n",
       "      <th>...</th>\n",
       "      <td>...</td>\n",
       "      <td>...</td>\n",
       "    </tr>\n",
       "    <tr>\n",
       "      <th>135355</th>\n",
       "      <td>13.958500</td>\n",
       "      <td>-148.449962</td>\n",
       "    </tr>\n",
       "    <tr>\n",
       "      <th>135356</th>\n",
       "      <td>15.221900</td>\n",
       "      <td>-148.185070</td>\n",
       "    </tr>\n",
       "    <tr>\n",
       "      <th>135357</th>\n",
       "      <td>16.599500</td>\n",
       "      <td>-143.510461</td>\n",
       "    </tr>\n",
       "    <tr>\n",
       "      <th>135358</th>\n",
       "      <td>18.101900</td>\n",
       "      <td>-127.188989</td>\n",
       "    </tr>\n",
       "    <tr>\n",
       "      <th>135359</th>\n",
       "      <td>19.740300</td>\n",
       "      <td>-75.951307</td>\n",
       "    </tr>\n",
       "  </tbody>\n",
       "</table>\n",
       "<p>135360 rows × 2 columns</p>\n",
       "</div>"
      ],
      "text/plain": [
       "             freq       power\n",
       "0        0.005256 -172.838533\n",
       "1        0.005731 -173.352568\n",
       "2        0.006250 -174.386616\n",
       "3        0.006816 -174.724578\n",
       "4        0.007433 -174.987648\n",
       "...           ...         ...\n",
       "135355  13.958500 -148.449962\n",
       "135356  15.221900 -148.185070\n",
       "135357  16.599500 -143.510461\n",
       "135358  18.101900 -127.188989\n",
       "135359  19.740300  -75.951307\n",
       "\n",
       "[135360 rows x 2 columns]"
      ]
     },
     "execution_count": 37,
     "metadata": {},
     "output_type": "execute_result"
    }
   ],
   "source": [
    "xml1_file=\"pdf_test2.xml\"\n",
    "test2 = pd.read_xml(xml1_file, xpath=\"/PsdRoot/Psds/Psd\")\n",
    "print(test2)\n",
    "xml1_file = \"pdf_test2.xml\"\n",
    "test3 = pd.read_xml(xml1_file, xpath=\"/PsdRoot/Psds/Psd/value\")\n",
    "test3"
   ]
  },
  {
   "cell_type": "code",
   "execution_count": 96,
   "metadata": {},
   "outputs": [],
   "source": [
    "ma=np.zeros((96,1410))\n",
    "c=0\n",
    "r=-1\n",
    "for i in range (0,135360):\n",
    "    if ((r+1)/96) == 1:\n",
    "        r =0\n",
    "        c+=1\n",
    "    else :\n",
    "        r+=1\n",
    "    ma[r,c]=test3.iloc[i,1]\n",
    "\n",
    "    "
   ]
  },
  {
   "cell_type": "code",
   "execution_count": 128,
   "metadata": {},
   "outputs": [],
   "source": [
    "final=np.zeros((96,706))\n",
    "c=0\n",
    "r=0\n",
    "j=0\n",
    "for i in range (0,67680):\n",
    "    final[r,c]=ma[r,j]\n",
    "    if ((r+1)/96) == 1:\n",
    "        r =0\n",
    "        c+=1\n",
    "        j+=2\n",
    "    else :\n",
    "        r+=1\n",
    "for i in range (0,96):\n",
    "    final[i,705]=ma[i,1409]"
   ]
  },
  {
   "cell_type": "code",
   "execution_count": 132,
   "metadata": {},
   "outputs": [
    {
     "name": "stdout",
     "output_type": "stream",
     "text": [
      "[[-172.83853302 -172.13403302 -173.14463302 ..., -178.55283302\n",
      "  -174.52783302 -174.72283302]\n",
      " [-173.35256785 -172.64806785 -173.65866785 ..., -179.06686785\n",
      "  -175.04186785 -175.23686785]\n",
      " [-174.38661583 -174.13751583 -174.69181583 ..., -180.31541583\n",
      "  -176.17211583 -176.25761583]\n",
      " ..., \n",
      " [-144.06016079 -143.91316079 -143.99476079 ..., -144.07286079\n",
      "  -136.51037079 -143.51046079]\n",
      " [-127.62408913 -127.54328913 -127.61328913 ..., -127.66898913\n",
      "  -121.24579913 -127.18898913]\n",
      " [ -76.16950702  -76.11210702  -76.17080702 ...,  -76.15930702\n",
      "   -71.24190702  -75.95130702]]\n"
     ]
    }
   ],
   "source": [
    "print(final)"
   ]
  },
  {
   "cell_type": "code",
   "execution_count": 134,
   "metadata": {},
   "outputs": [
    {
     "data": {
      "text/plain": [
       "(96, 706)"
      ]
     },
     "execution_count": 134,
     "metadata": {},
     "output_type": "execute_result"
    }
   ],
   "source": [
    "final.shape"
   ]
  },
  {
   "cell_type": "code",
   "execution_count": 241,
   "metadata": {},
   "outputs": [
    {
     "name": "stdout",
     "output_type": "stream",
     "text": [
      "1533081600.0\n",
      "1535673599.0\n",
      "['2018-08-01', '2018-08-08', '2018-08-15', '2018-08-22', '2018-08-29']\n"
     ]
    }
   ],
   "source": [
    "time=np.arange(startt,endt,86400*7)\n",
    "print(startt)\n",
    "print(endt)\n",
    "time.shape\n",
    "utc=[]\n",
    "for ele in time:\n",
    "    k=(UTCDateTime(ele))\n",
    "    utc.append(k.strftime(\"%Y-%m-%d\"))\n",
    "\n",
    "    \n",
    "print(utc)"
   ]
  },
  {
   "cell_type": "code",
   "execution_count": 247,
   "metadata": {},
   "outputs": [
    {
     "data": {
      "text/plain": [
       "(96, 706)"
      ]
     },
     "execution_count": 247,
     "metadata": {},
     "output_type": "execute_result"
    }
   ],
   "source": [
    "final.shape"
   ]
  },
  {
   "cell_type": "code",
   "execution_count": 249,
   "metadata": {},
   "outputs": [
    {
     "data": {
      "text/plain": [
       "(5,)"
      ]
     },
     "execution_count": 249,
     "metadata": {},
     "output_type": "execute_result"
    }
   ],
   "source": [
    "time=np.arange(startt,endt,86400*7)\n",
    "\n",
    "time.shape"
   ]
  },
  {
   "cell_type": "code",
   "execution_count": 246,
   "metadata": {},
   "outputs": [
    {
     "name": "stderr",
     "output_type": "stream",
     "text": [
      "/tmp/ipykernel_32501/2758030238.py:5: UserWarning: FixedFormatter should only be used together with FixedLocator\n",
      "  ax.set_xticklabels(utc)\n"
     ]
    },
    {
     "data": {
      "text/plain": [
       "[Text(0.0, 0, '2018-08-01'),\n",
       " Text(100.0, 0, '2018-08-08'),\n",
       " Text(200.0, 0, '2018-08-15'),\n",
       " Text(300.0, 0, '2018-08-22'),\n",
       " Text(400.0, 0, '2018-08-29'),\n",
       " Text(500.0, 0, ''),\n",
       " Text(600.0, 0, ''),\n",
       " Text(700.0, 0, ''),\n",
       " Text(800.0, 0, '')]"
      ]
     },
     "execution_count": 246,
     "metadata": {},
     "output_type": "execute_result"
    },
    {
     "data": {
      "image/png": "[encoded data removed]",
      "text/plain": [
       "<Figure size 576x216 with 1 Axes>"
      ]
     },
     "metadata": {
      "needs_background": "light"
     },
     "output_type": "display_data"
    }
   ],
   "source": [
    "fig, ax = plt.subplots()\n",
    "c = ax.pcolormesh(final, cmap='plasma')\n",
    "fig.set_figwidth(8)\n",
    "fig.set_figheight(3)\n",
    "ax.set_xticklabels(utc)\n",
    "\n"
   ]
  },
  {
   "cell_type": "code",
   "execution_count": 251,
   "metadata": {},
   "outputs": [],
   "source": [
    "data = np.array([[1, 2, 3], [4, 5, 6], [3, 2, 1]])"
   ]
  },
  {
   "cell_type": "code",
   "execution_count": 254,
   "metadata": {},
   "outputs": [
    {
     "data": {
      "text/plain": [
       "<matplotlib.collections.QuadMesh at 0x7f05284ce6d0>"
      ]
     },
     "execution_count": 254,
     "metadata": {},
     "output_type": "execute_result"
    },
    {
     "data": {
      "image/png": "[encoded data removed]",
      "text/plain": [
       "<Figure size 432x288 with 1 Axes>"
      ]
     },
     "metadata": {
      "needs_background": "light"
     },
     "output_type": "display_data"
    }
   ],
   "source": [
    "plt.pcolormesh(data)"
   ]
  },
  {
   "cell_type": "code",
   "execution_count": 264,
   "metadata": {},
   "outputs": [],
   "source": [
    "time = np.array([t, t + 60, t + 120, t + 180])"
   ]
  },
  {
   "cell_type": "code",
   "execution_count": 268,
   "metadata": {},
   "outputs": [],
   "source": [
    "time_mpl = [t.matplotlib_date for t in time]"
   ]
  },
  {
   "cell_type": "code",
   "execution_count": 270,
   "metadata": {},
   "outputs": [
    {
     "data": {
      "text/plain": [
       "[18859.064271082629,\n",
       " 18859.064965527072,\n",
       " 18859.065659971515,\n",
       " 18859.066354415962]"
      ]
     },
     "execution_count": 270,
     "metadata": {},
     "output_type": "execute_result"
    }
   ],
   "source": [
    "time_mpl"
   ]
  },
  {
   "cell_type": "code",
   "execution_count": 274,
   "metadata": {},
   "outputs": [
    {
     "ename": "AttributeError",
     "evalue": "'AxesSubplot' object has no attribute 'fmt_xdate'",
     "output_type": "error",
     "traceback": [
      "\u001b[0;31m---------------------------------------------------------------------------\u001b[0m",
      "\u001b[0;31mAttributeError\u001b[0m                            Traceback (most recent call last)",
      "\u001b[0;32m/tmp/ipykernel_32501/1020499956.py\u001b[0m in \u001b[0;36m<module>\u001b[0;34m\u001b[0m\n\u001b[1;32m      3\u001b[0m \u001b[0;34m\u001b[0m\u001b[0m\n\u001b[1;32m      4\u001b[0m \u001b[0mplt\u001b[0m\u001b[0;34m.\u001b[0m\u001b[0mpcolormesh\u001b[0m\u001b[0;34m(\u001b[0m\u001b[0mtime_mpl\u001b[0m\u001b[0;34m,\u001b[0m \u001b[0mf\u001b[0m\u001b[0;34m,\u001b[0m \u001b[0mdata\u001b[0m\u001b[0;34m)\u001b[0m\u001b[0;34m\u001b[0m\u001b[0;34m\u001b[0m\u001b[0m\n\u001b[0;32m----> 5\u001b[0;31m \u001b[0mplt\u001b[0m\u001b[0;34m.\u001b[0m\u001b[0mgca\u001b[0m\u001b[0;34m(\u001b[0m\u001b[0;34m)\u001b[0m\u001b[0;34m.\u001b[0m\u001b[0mfmt_xdate\u001b[0m\u001b[0;34m(\u001b[0m\u001b[0;34m)\u001b[0m\u001b[0;34m\u001b[0m\u001b[0;34m\u001b[0m\u001b[0m\n\u001b[0m",
      "\u001b[0;31mAttributeError\u001b[0m: 'AxesSubplot' object has no attribute 'fmt_xdate'"
     ]
    },
    {
     "data": {
      "image/png": "[encoded data removed]",
      "text/plain": [
       "<Figure size 432x288 with 1 Axes>"
      ]
     },
     "metadata": {
      "needs_background": "light"
     },
     "output_type": "display_data"
    }
   ],
   "source": [
    "t = np.array([44, 45, 46, 47])\n",
    "f = np.array([24, 25, 26, 27])\n",
    "\n",
    "plt.pcolormesh(time_mpl, f, data)\n",
    "plt.gca().fmt_xdate()\n"
   ]
  },
  {
   "cell_type": "code",
   "execution_count": 175,
   "metadata": {},
   "outputs": [
    {
     "ename": "TypeError",
     "evalue": "descriptor 'astimezone' for 'datetime.datetime' objects doesn't apply to a 'datetime.timezone' object",
     "output_type": "error",
     "traceback": [
      "\u001b[0;31m---------------------------------------------------------------------------\u001b[0m",
      "\u001b[0;31mTypeError\u001b[0m                                 Traceback (most recent call last)",
      "\u001b[0;32m/tmp/ipykernel_32501/1704304385.py\u001b[0m in \u001b[0;36m<module>\u001b[0;34m\u001b[0m\n\u001b[1;32m      4\u001b[0m \u001b[0mendt\u001b[0m\u001b[0;34m=\u001b[0m\u001b[0mdt\u001b[0m\u001b[0;34m.\u001b[0m\u001b[0mdatetime\u001b[0m\u001b[0;34m\u001b[0m\u001b[0;34m\u001b[0m\u001b[0m\n\u001b[1;32m      5\u001b[0m \u001b[0mstartt\u001b[0m\u001b[0;34m=\u001b[0m\u001b[0mmdates\u001b[0m\u001b[0;34m.\u001b[0m\u001b[0mdate2num\u001b[0m\u001b[0;34m(\u001b[0m\u001b[0mstartt\u001b[0m\u001b[0;34m)\u001b[0m\u001b[0;34m\u001b[0m\u001b[0;34m\u001b[0m\u001b[0m\n\u001b[0;32m----> 6\u001b[0;31m \u001b[0mendt\u001b[0m\u001b[0;34m=\u001b[0m\u001b[0mmdates\u001b[0m\u001b[0;34m.\u001b[0m\u001b[0mdate2num\u001b[0m\u001b[0;34m(\u001b[0m\u001b[0mendt\u001b[0m\u001b[0;34m)\u001b[0m\u001b[0;34m\u001b[0m\u001b[0;34m\u001b[0m\u001b[0m\n\u001b[0m",
      "\u001b[0;32m~/.conda/envs/roses_2021/lib/python3.9/site-packages/matplotlib/dates.py\u001b[0m in \u001b[0;36mdate2num\u001b[0;34m(d)\u001b[0m\n\u001b[1;32m    423\u001b[0m         \u001b[0;32mif\u001b[0m \u001b[0mtzi\u001b[0m \u001b[0;32mis\u001b[0m \u001b[0;32mnot\u001b[0m \u001b[0;32mNone\u001b[0m\u001b[0;34m:\u001b[0m\u001b[0;34m\u001b[0m\u001b[0;34m\u001b[0m\u001b[0m\n\u001b[1;32m    424\u001b[0m             \u001b[0;31m# make datetime naive:\u001b[0m\u001b[0;34m\u001b[0m\u001b[0;34m\u001b[0m\u001b[0;34m\u001b[0m\u001b[0m\n\u001b[0;32m--> 425\u001b[0;31m             \u001b[0md\u001b[0m \u001b[0;34m=\u001b[0m \u001b[0;34m[\u001b[0m\u001b[0mdt\u001b[0m\u001b[0;34m.\u001b[0m\u001b[0mastimezone\u001b[0m\u001b[0;34m(\u001b[0m\u001b[0mUTC\u001b[0m\u001b[0;34m)\u001b[0m\u001b[0;34m.\u001b[0m\u001b[0mreplace\u001b[0m\u001b[0;34m(\u001b[0m\u001b[0mtzinfo\u001b[0m\u001b[0;34m=\u001b[0m\u001b[0;32mNone\u001b[0m\u001b[0;34m)\u001b[0m \u001b[0;32mfor\u001b[0m \u001b[0mdt\u001b[0m \u001b[0;32min\u001b[0m \u001b[0md\u001b[0m\u001b[0;34m]\u001b[0m\u001b[0;34m\u001b[0m\u001b[0;34m\u001b[0m\u001b[0m\n\u001b[0m\u001b[1;32m    426\u001b[0m             \u001b[0md\u001b[0m \u001b[0;34m=\u001b[0m \u001b[0mnp\u001b[0m\u001b[0;34m.\u001b[0m\u001b[0masarray\u001b[0m\u001b[0;34m(\u001b[0m\u001b[0md\u001b[0m\u001b[0;34m)\u001b[0m\u001b[0;34m\u001b[0m\u001b[0;34m\u001b[0m\u001b[0m\n\u001b[1;32m    427\u001b[0m         \u001b[0md\u001b[0m \u001b[0;34m=\u001b[0m \u001b[0md\u001b[0m\u001b[0;34m.\u001b[0m\u001b[0mastype\u001b[0m\u001b[0;34m(\u001b[0m\u001b[0;34m'datetime64[us]'\u001b[0m\u001b[0;34m)\u001b[0m\u001b[0;34m\u001b[0m\u001b[0;34m\u001b[0m\u001b[0m\n",
      "\u001b[0;32m~/.conda/envs/roses_2021/lib/python3.9/site-packages/matplotlib/dates.py\u001b[0m in \u001b[0;36m<listcomp>\u001b[0;34m(.0)\u001b[0m\n\u001b[1;32m    423\u001b[0m         \u001b[0;32mif\u001b[0m \u001b[0mtzi\u001b[0m \u001b[0;32mis\u001b[0m \u001b[0;32mnot\u001b[0m \u001b[0;32mNone\u001b[0m\u001b[0;34m:\u001b[0m\u001b[0;34m\u001b[0m\u001b[0;34m\u001b[0m\u001b[0m\n\u001b[1;32m    424\u001b[0m             \u001b[0;31m# make datetime naive:\u001b[0m\u001b[0;34m\u001b[0m\u001b[0;34m\u001b[0m\u001b[0;34m\u001b[0m\u001b[0m\n\u001b[0;32m--> 425\u001b[0;31m             \u001b[0md\u001b[0m \u001b[0;34m=\u001b[0m \u001b[0;34m[\u001b[0m\u001b[0mdt\u001b[0m\u001b[0;34m.\u001b[0m\u001b[0mastimezone\u001b[0m\u001b[0;34m(\u001b[0m\u001b[0mUTC\u001b[0m\u001b[0;34m)\u001b[0m\u001b[0;34m.\u001b[0m\u001b[0mreplace\u001b[0m\u001b[0;34m(\u001b[0m\u001b[0mtzinfo\u001b[0m\u001b[0;34m=\u001b[0m\u001b[0;32mNone\u001b[0m\u001b[0;34m)\u001b[0m \u001b[0;32mfor\u001b[0m \u001b[0mdt\u001b[0m \u001b[0;32min\u001b[0m \u001b[0md\u001b[0m\u001b[0;34m]\u001b[0m\u001b[0;34m\u001b[0m\u001b[0;34m\u001b[0m\u001b[0m\n\u001b[0m\u001b[1;32m    426\u001b[0m             \u001b[0md\u001b[0m \u001b[0;34m=\u001b[0m \u001b[0mnp\u001b[0m\u001b[0;34m.\u001b[0m\u001b[0masarray\u001b[0m\u001b[0;34m(\u001b[0m\u001b[0md\u001b[0m\u001b[0;34m)\u001b[0m\u001b[0;34m\u001b[0m\u001b[0;34m\u001b[0m\u001b[0m\n\u001b[1;32m    427\u001b[0m         \u001b[0md\u001b[0m \u001b[0;34m=\u001b[0m \u001b[0md\u001b[0m\u001b[0;34m.\u001b[0m\u001b[0mastype\u001b[0m\u001b[0;34m(\u001b[0m\u001b[0;34m'datetime64[us]'\u001b[0m\u001b[0;34m)\u001b[0m\u001b[0;34m\u001b[0m\u001b[0;34m\u001b[0m\u001b[0m\n",
      "\u001b[0;31mTypeError\u001b[0m: descriptor 'astimezone' for 'datetime.datetime' objects doesn't apply to a 'datetime.timezone' object"
     ]
    }
   ],
   "source": [
    "startt=UTCDateTime(\"2018-08-01T00:00:00.000Z\")\n",
    "endt=UTCDateTime(\"2018-08-30T23:59:59.000Z\")\n",
    "startt=startt.datetime\n",
    "endt=dt.datetime\n",
    "startt=mdates.date2num(startt)\n",
    "endt=mdates.date2num(endt)"
   ]
  }
 ],
 "metadata": {
  "kernelspec": {
   "display_name": "Python 3 (ipykernel)",
   "language": "python",
   "name": "python3"
  },
  "language_info": {
   "codemirror_mode": {
    "name": "ipython",
    "version": 3
   },
   "file_extension": ".py",
   "mimetype": "text/x-python",
   "name": "python",
   "nbconvert_exporter": "python",
   "pygments_lexer": "ipython3",
   "version": "3.9.6"
  }
 },
 "nbformat": 4,
 "nbformat_minor": 4
}
